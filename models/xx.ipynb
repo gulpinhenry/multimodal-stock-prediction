{
 "cells": [
  {
   "cell_type": "code",
   "execution_count": 13,
   "metadata": {},
   "outputs": [],
   "source": [
    "from pymongo import MongoClient\n",
    "client = MongoClient('mongodb://localhost:27017/')\n"
   ]
  },
  {
   "cell_type": "code",
   "execution_count": 15,
   "metadata": {},
   "outputs": [
    {
     "data": {
      "text/plain": [
       "InsertManyResult([ObjectId('68258bedb91dc6e14c228e95'), ObjectId('68258bedb91dc6e14c228e96'), ObjectId('68258bedb91dc6e14c228e97')], acknowledged=True)"
      ]
     },
     "execution_count": 15,
     "metadata": {},
     "output_type": "execute_result"
    }
   ],
   "source": [
    "# Make two tables, one for the tweet: date,company, tweet . Other for the stock price: date, ticker, open, high, low, close, volume\n",
    "\n",
    "# Drop any existing collections to avoid duplicates\n",
    "try:\n",
    "    client.drop_database('stock_tweets')\n",
    "except Exception as e:\n",
    "    print(f\"Error dropping database: {e}\")\n",
    "# Create a new database\n",
    "db = client['stock_tweets']\n",
    "db.create_collection('tweets')\n",
    "db.create_collection('stock_prices')\n",
    "tweets = db['tweets']\n",
    "stock_prices = db['stock_prices']\n",
    "\n",
    "# Insert summy data into both the tables\n",
    "tweets.insert_many([\n",
    "    {\"date\": \"2023-01-01\", \"company\": \"apple\", \"tweet\": \"Apple's new product launch was a success!\"},\n",
    "    {\"date\": \"2023-01-02\", \"company\": \"google\", \"tweet\": \"Google's stock is on the rise after earnings report.\"},\n",
    "    {\"date\": \"2023-01-03\", \"company\": \"amazon\", \"tweet\": \"Amazon Prime Day sales exceeded expectations!\"},\n",
    "    {\"date\": \"2023-01-03\", \"company\": \"amazon\", \"tweet\": \"Amazon's new warehouse is set to open next month.\"},\n",
    "])\n",
    "\n",
    "stock_prices.insert_many([\n",
    "    {\"date\": \"2023-01-01\", \"ticker\": \"AAPL\", \"open\": 150, \"high\": 155, \"low\": 149, \"close\": 154, \"volume\": 1000000},\n",
    "    {\"date\": \"2023-01-02\", \"ticker\": \"GOOGL\", \"open\": 2800, \"high\": 2850, \"low\": 2790, \"close\": 2840, \"volume\": 500000},\n",
    "    {\"date\": \"2023-01-03\", \"ticker\": \"AMZN\", \"open\": 3300, \"high\": 3350, \"low\": 3280, \"close\": 3305, \"volume\": 700000}\n",
    "])\n"
   ]
  },
  {
   "cell_type": "code",
   "execution_count": 19,
   "metadata": {},
   "outputs": [
    {
     "name": "stdout",
     "output_type": "stream",
     "text": [
      "{'_id': ObjectId('68258bedb91dc6e14c228e91'), 'date': '2023-01-01', 'company': 'apple', 'tweet': \"Apple's new product launch was a success!\", 'sentiment': 'positive', 'sentiment_score': 0.9026734232902527}\n",
      "{'_id': ObjectId('68258bedb91dc6e14c228e92'), 'date': '2023-01-02', 'company': 'google', 'tweet': \"Google's stock is on the rise after earnings report.\", 'sentiment': 'positive', 'sentiment_score': 0.9382569193840027}\n",
      "{'_id': ObjectId('68258bedb91dc6e14c228e93'), 'date': '2023-01-03', 'company': 'amazon', 'tweet': 'Amazon Prime Day sales exceeded expectations!', 'sentiment': 'positive', 'sentiment_score': 0.9344619512557983}\n",
      "{'_id': ObjectId('68258bedb91dc6e14c228e94'), 'date': '2023-01-03', 'company': 'amazon', 'tweet': \"Amazon's new warehouse is set to open next month.\", 'sentiment': 'neutral', 'sentiment_score': 0.9201991558074951}\n"
     ]
    }
   ],
   "source": [
    "for tweet in tweets.find():\n",
    "    print(tweet)"
   ]
  },
  {
   "cell_type": "code",
   "execution_count": 17,
   "metadata": {},
   "outputs": [
    {
     "name": "stderr",
     "output_type": "stream",
     "text": [
      "Device set to use cpu\n"
     ]
    }
   ],
   "source": [
    "# Use a pipeline as a high-level helper\n",
    "from transformers import pipeline\n",
    "\n",
    "pipe = pipeline(\"text-classification\", model=\"ProsusAI/finbert\")\n",
    "\n",
    "# Do inference for the tweets and store the sentiment score in the tweets table as an additional column\n",
    "def get_sentiment(tweet):\n",
    "    result = pipe(tweet)\n",
    "    return result[0]['label'], result[0]['score']\n",
    "\n",
    "for tweet in tweets.find():\n",
    "    sentiment = get_sentiment(tweet['tweet'])\n",
    "    tweets.update_one(\n",
    "        {\"_id\": tweet['_id']},\n",
    "        {\"$set\": {\"sentiment\": sentiment[0], \"sentiment_score\": sentiment[1]}}\n",
    "    )\n"
   ]
  },
  {
   "cell_type": "code",
   "execution_count": 23,
   "metadata": {},
   "outputs": [
    {
     "name": "stdout",
     "output_type": "stream",
     "text": [
      "{'_id': ObjectId('68258d57b91dc6e14c228e98'), 'date': '2023-01-01', 'company': 'apple', 'avg_sentiment': 0.9026734232902527}\n",
      "{'_id': ObjectId('68258d57b91dc6e14c228e99'), 'date': '2023-01-02', 'company': 'google', 'avg_sentiment': 0.9382569193840027}\n",
      "{'_id': ObjectId('68258d57b91dc6e14c228e9a'), 'date': '2023-01-03', 'company': 'amazon', 'avg_sentiment': 0.9273305535316467}\n"
     ]
    }
   ],
   "source": [
    "# Average the sentiment score for each company and date make a new table\n",
    "avg_sentiment = {}\n",
    "for tweet in tweets.find():\n",
    "    date = tweet['date']\n",
    "    company = tweet['company']\n",
    "    sentiment_score = tweet['sentiment_score']\n",
    "    \n",
    "    if date not in avg_sentiment:\n",
    "        avg_sentiment[date] = {}\n",
    "    \n",
    "    if company not in avg_sentiment[date]:\n",
    "        avg_sentiment[date][company] = {'total_score': 0, 'count': 0}\n",
    "    \n",
    "    avg_sentiment[date][company]['total_score'] += sentiment_score\n",
    "    avg_sentiment[date][company]['count'] += 1\n",
    "\n",
    "# Create a new collection for average sentiment\n",
    "avg_sentiment_collection = db['avg_sentiment']\n",
    "avg_sentiment_collection.drop()\n",
    "\n",
    "# Insert average sentiment data into the new collection\n",
    "for date, companies in avg_sentiment.items():\n",
    "    for company, data in companies.items():\n",
    "        avg_score = data['total_score'] / data['count']\n",
    "        avg_sentiment_collection.insert_one({\n",
    "            \"date\": date,\n",
    "            \"company\": company,\n",
    "            \"avg_sentiment\": avg_score\n",
    "        })\n",
    "\n",
    "# Print the average sentiment table\n",
    "for avg in avg_sentiment_collection.find():\n",
    "    print(avg)"
   ]
  },
  {
   "cell_type": "code",
   "execution_count": 26,
   "metadata": {},
   "outputs": [
    {
     "ename": "DuplicateKeyError",
     "evalue": "E11000 duplicate key error collection: stock_tweets.concatenated_data index: _id_ dup key: { _id: ObjectId('68258bedb91dc6e14c228e97') }, full error: {'index': 0, 'code': 11000, 'errmsg': \"E11000 duplicate key error collection: stock_tweets.concatenated_data index: _id_ dup key: { _id: ObjectId('68258bedb91dc6e14c228e97') }\", 'keyPattern': {'_id': 1}, 'keyValue': {'_id': ObjectId('68258bedb91dc6e14c228e97')}}",
     "output_type": "error",
     "traceback": [
      "\u001b[31m---------------------------------------------------------------------------\u001b[39m",
      "\u001b[31mDuplicateKeyError\u001b[39m                         Traceback (most recent call last)",
      "\u001b[36mCell\u001b[39m\u001b[36m \u001b[39m\u001b[32mIn[26]\u001b[39m\u001b[32m, line 23\u001b[39m\n\u001b[32m     21\u001b[39m         stock_data = stock_prices.find_one({\u001b[33m\"\u001b[39m\u001b[33mdate\u001b[39m\u001b[33m\"\u001b[39m: date, \u001b[33m\"\u001b[39m\u001b[33mticker\u001b[39m\u001b[33m\"\u001b[39m: ticker})\n\u001b[32m     22\u001b[39m         \u001b[38;5;28;01mif\u001b[39;00m stock_data:\n\u001b[32m---> \u001b[39m\u001b[32m23\u001b[39m             \u001b[43mconcatenated_collection\u001b[49m\u001b[43m.\u001b[49m\u001b[43minsert_one\u001b[49m\u001b[43m(\u001b[49m\u001b[43m{\u001b[49m\n\u001b[32m     24\u001b[39m \u001b[43m                \u001b[49m\u001b[33;43m\"\u001b[39;49m\u001b[33;43mdate\u001b[39;49m\u001b[33;43m\"\u001b[39;49m\u001b[43m:\u001b[49m\u001b[43m \u001b[49m\u001b[43mdate\u001b[49m\u001b[43m,\u001b[49m\n\u001b[32m     25\u001b[39m \u001b[43m                \u001b[49m\u001b[33;43m\"\u001b[39;49m\u001b[33;43mcompany\u001b[39;49m\u001b[33;43m\"\u001b[39;49m\u001b[43m:\u001b[49m\u001b[43m \u001b[49m\u001b[43mcompany\u001b[49m\u001b[43m,\u001b[49m\n\u001b[32m     26\u001b[39m \u001b[43m                \u001b[49m\u001b[33;43m\"\u001b[39;49m\u001b[33;43mtweet\u001b[39;49m\u001b[33;43m\"\u001b[39;49m\u001b[43m:\u001b[49m\u001b[43m \u001b[49m\u001b[43mtweet\u001b[49m\u001b[43m[\u001b[49m\u001b[33;43m'\u001b[39;49m\u001b[33;43mtweet\u001b[39;49m\u001b[33;43m'\u001b[39;49m\u001b[43m]\u001b[49m\u001b[43m,\u001b[49m\n\u001b[32m     27\u001b[39m \u001b[43m                \u001b[49m\u001b[33;43m\"\u001b[39;49m\u001b[33;43msentiment\u001b[39;49m\u001b[33;43m\"\u001b[39;49m\u001b[43m:\u001b[49m\u001b[43m \u001b[49m\u001b[43mtweet\u001b[49m\u001b[43m[\u001b[49m\u001b[33;43m'\u001b[39;49m\u001b[33;43msentiment\u001b[39;49m\u001b[33;43m'\u001b[39;49m\u001b[43m]\u001b[49m\u001b[43m,\u001b[49m\n\u001b[32m     28\u001b[39m \u001b[43m                \u001b[49m\u001b[33;43m\"\u001b[39;49m\u001b[33;43msentiment_score\u001b[39;49m\u001b[33;43m\"\u001b[39;49m\u001b[43m:\u001b[49m\u001b[43m \u001b[49m\u001b[43mtweet\u001b[49m\u001b[43m[\u001b[49m\u001b[33;43m'\u001b[39;49m\u001b[33;43msentiment_score\u001b[39;49m\u001b[33;43m'\u001b[39;49m\u001b[43m]\u001b[49m\u001b[43m,\u001b[49m\n\u001b[32m     29\u001b[39m \u001b[43m                \u001b[49m\u001b[33;43m\"\u001b[39;49m\u001b[33;43mticker\u001b[39;49m\u001b[33;43m\"\u001b[39;49m\u001b[43m:\u001b[49m\u001b[43m \u001b[49m\u001b[43mticker\u001b[49m\u001b[43m,\u001b[49m\n\u001b[32m     30\u001b[39m \u001b[43m                \u001b[49m\u001b[43m*\u001b[49m\u001b[43m*\u001b[49m\u001b[43mstock_data\u001b[49m\n\u001b[32m     31\u001b[39m \u001b[43m            \u001b[49m\u001b[43m}\u001b[49m\u001b[43m)\u001b[49m\n\u001b[32m     33\u001b[39m \u001b[38;5;66;03m# Print the concatenated data\u001b[39;00m\n\u001b[32m     34\u001b[39m \u001b[38;5;28;01mfor\u001b[39;00m data \u001b[38;5;129;01min\u001b[39;00m concatenated_collection.find():\n",
      "\u001b[36mFile \u001b[39m\u001b[32m~/Softwares/anaconda3/envs/stock_prediction/lib/python3.11/site-packages/pymongo/synchronous/collection.py:891\u001b[39m, in \u001b[36mCollection.insert_one\u001b[39m\u001b[34m(self, document, bypass_document_validation, session, comment)\u001b[39m\n\u001b[32m    887\u001b[39m     document[\u001b[33m\"\u001b[39m\u001b[33m_id\u001b[39m\u001b[33m\"\u001b[39m] = ObjectId()  \u001b[38;5;66;03m# type: ignore[index]\u001b[39;00m\n\u001b[32m    889\u001b[39m write_concern = \u001b[38;5;28mself\u001b[39m._write_concern_for(session)\n\u001b[32m    890\u001b[39m \u001b[38;5;28;01mreturn\u001b[39;00m InsertOneResult(\n\u001b[32m--> \u001b[39m\u001b[32m891\u001b[39m     \u001b[38;5;28;43mself\u001b[39;49m\u001b[43m.\u001b[49m\u001b[43m_insert_one\u001b[49m\u001b[43m(\u001b[49m\n\u001b[32m    892\u001b[39m \u001b[43m        \u001b[49m\u001b[43mdocument\u001b[49m\u001b[43m,\u001b[49m\n\u001b[32m    893\u001b[39m \u001b[43m        \u001b[49m\u001b[43mordered\u001b[49m\u001b[43m=\u001b[49m\u001b[38;5;28;43;01mTrue\u001b[39;49;00m\u001b[43m,\u001b[49m\n\u001b[32m    894\u001b[39m \u001b[43m        \u001b[49m\u001b[43mwrite_concern\u001b[49m\u001b[43m=\u001b[49m\u001b[43mwrite_concern\u001b[49m\u001b[43m,\u001b[49m\n\u001b[32m    895\u001b[39m \u001b[43m        \u001b[49m\u001b[43mop_id\u001b[49m\u001b[43m=\u001b[49m\u001b[38;5;28;43;01mNone\u001b[39;49;00m\u001b[43m,\u001b[49m\n\u001b[32m    896\u001b[39m \u001b[43m        \u001b[49m\u001b[43mbypass_doc_val\u001b[49m\u001b[43m=\u001b[49m\u001b[43mbypass_document_validation\u001b[49m\u001b[43m,\u001b[49m\n\u001b[32m    897\u001b[39m \u001b[43m        \u001b[49m\u001b[43msession\u001b[49m\u001b[43m=\u001b[49m\u001b[43msession\u001b[49m\u001b[43m,\u001b[49m\n\u001b[32m    898\u001b[39m \u001b[43m        \u001b[49m\u001b[43mcomment\u001b[49m\u001b[43m=\u001b[49m\u001b[43mcomment\u001b[49m\u001b[43m,\u001b[49m\n\u001b[32m    899\u001b[39m \u001b[43m    \u001b[49m\u001b[43m)\u001b[49m,\n\u001b[32m    900\u001b[39m     write_concern.acknowledged,\n\u001b[32m    901\u001b[39m )\n",
      "\u001b[36mFile \u001b[39m\u001b[32m~/Softwares/anaconda3/envs/stock_prediction/lib/python3.11/site-packages/pymongo/synchronous/collection.py:831\u001b[39m, in \u001b[36mCollection._insert_one\u001b[39m\u001b[34m(self, doc, ordered, write_concern, op_id, bypass_doc_val, session, comment)\u001b[39m\n\u001b[32m    819\u001b[39m     result = conn.command(\n\u001b[32m    820\u001b[39m         \u001b[38;5;28mself\u001b[39m._database.name,\n\u001b[32m    821\u001b[39m         command,\n\u001b[32m   (...)\u001b[39m\u001b[32m    826\u001b[39m         retryable_write=retryable_write,\n\u001b[32m    827\u001b[39m     )\n\u001b[32m    829\u001b[39m     _check_write_command_response(result)\n\u001b[32m--> \u001b[39m\u001b[32m831\u001b[39m \u001b[38;5;28;43mself\u001b[39;49m\u001b[43m.\u001b[49m\u001b[43m_database\u001b[49m\u001b[43m.\u001b[49m\u001b[43mclient\u001b[49m\u001b[43m.\u001b[49m\u001b[43m_retryable_write\u001b[49m\u001b[43m(\u001b[49m\n\u001b[32m    832\u001b[39m \u001b[43m    \u001b[49m\u001b[43macknowledged\u001b[49m\u001b[43m,\u001b[49m\u001b[43m \u001b[49m\u001b[43m_insert_command\u001b[49m\u001b[43m,\u001b[49m\u001b[43m \u001b[49m\u001b[43msession\u001b[49m\u001b[43m,\u001b[49m\u001b[43m \u001b[49m\u001b[43moperation\u001b[49m\u001b[43m=\u001b[49m\u001b[43m_Op\u001b[49m\u001b[43m.\u001b[49m\u001b[43mINSERT\u001b[49m\n\u001b[32m    833\u001b[39m \u001b[43m\u001b[49m\u001b[43m)\u001b[49m\n\u001b[32m    835\u001b[39m \u001b[38;5;28;01mif\u001b[39;00m \u001b[38;5;129;01mnot\u001b[39;00m \u001b[38;5;28misinstance\u001b[39m(doc, RawBSONDocument):\n\u001b[32m    836\u001b[39m     \u001b[38;5;28;01mreturn\u001b[39;00m doc.get(\u001b[33m\"\u001b[39m\u001b[33m_id\u001b[39m\u001b[33m\"\u001b[39m)\n",
      "\u001b[36mFile \u001b[39m\u001b[32m~/Softwares/anaconda3/envs/stock_prediction/lib/python3.11/site-packages/pymongo/synchronous/mongo_client.py:2061\u001b[39m, in \u001b[36mMongoClient._retryable_write\u001b[39m\u001b[34m(self, retryable, func, session, operation, bulk, operation_id)\u001b[39m\n\u001b[32m   2047\u001b[39m \u001b[38;5;250m\u001b[39m\u001b[33;03m\"\"\"Execute an operation with consecutive retries if possible\u001b[39;00m\n\u001b[32m   2048\u001b[39m \n\u001b[32m   2049\u001b[39m \u001b[33;03mReturns func()'s return value on success. On error retries the same\u001b[39;00m\n\u001b[32m   (...)\u001b[39m\u001b[32m   2058\u001b[39m \u001b[33;03m:param bulk: bulk abstraction to execute operations in bulk, defaults to None\u001b[39;00m\n\u001b[32m   2059\u001b[39m \u001b[33;03m\"\"\"\u001b[39;00m\n\u001b[32m   2060\u001b[39m \u001b[38;5;28;01mwith\u001b[39;00m \u001b[38;5;28mself\u001b[39m._tmp_session(session) \u001b[38;5;28;01mas\u001b[39;00m s:\n\u001b[32m-> \u001b[39m\u001b[32m2061\u001b[39m     \u001b[38;5;28;01mreturn\u001b[39;00m \u001b[38;5;28;43mself\u001b[39;49m\u001b[43m.\u001b[49m\u001b[43m_retry_with_session\u001b[49m\u001b[43m(\u001b[49m\u001b[43mretryable\u001b[49m\u001b[43m,\u001b[49m\u001b[43m \u001b[49m\u001b[43mfunc\u001b[49m\u001b[43m,\u001b[49m\u001b[43m \u001b[49m\u001b[43ms\u001b[49m\u001b[43m,\u001b[49m\u001b[43m \u001b[49m\u001b[43mbulk\u001b[49m\u001b[43m,\u001b[49m\u001b[43m \u001b[49m\u001b[43moperation\u001b[49m\u001b[43m,\u001b[49m\u001b[43m \u001b[49m\u001b[43moperation_id\u001b[49m\u001b[43m)\u001b[49m\n",
      "\u001b[36mFile \u001b[39m\u001b[32m~/Softwares/anaconda3/envs/stock_prediction/lib/python3.11/site-packages/pymongo/synchronous/mongo_client.py:1947\u001b[39m, in \u001b[36mMongoClient._retry_with_session\u001b[39m\u001b[34m(self, retryable, func, session, bulk, operation, operation_id)\u001b[39m\n\u001b[32m   1942\u001b[39m \u001b[38;5;66;03m# Ensure that the options supports retry_writes and there is a valid session not in\u001b[39;00m\n\u001b[32m   1943\u001b[39m \u001b[38;5;66;03m# transaction, otherwise, we will not support retry behavior for this txn.\u001b[39;00m\n\u001b[32m   1944\u001b[39m retryable = \u001b[38;5;28mbool\u001b[39m(\n\u001b[32m   1945\u001b[39m     retryable \u001b[38;5;129;01mand\u001b[39;00m \u001b[38;5;28mself\u001b[39m.options.retry_writes \u001b[38;5;129;01mand\u001b[39;00m session \u001b[38;5;129;01mand\u001b[39;00m \u001b[38;5;129;01mnot\u001b[39;00m session.in_transaction\n\u001b[32m   1946\u001b[39m )\n\u001b[32m-> \u001b[39m\u001b[32m1947\u001b[39m \u001b[38;5;28;01mreturn\u001b[39;00m \u001b[38;5;28;43mself\u001b[39;49m\u001b[43m.\u001b[49m\u001b[43m_retry_internal\u001b[49m\u001b[43m(\u001b[49m\n\u001b[32m   1948\u001b[39m \u001b[43m    \u001b[49m\u001b[43mfunc\u001b[49m\u001b[43m=\u001b[49m\u001b[43mfunc\u001b[49m\u001b[43m,\u001b[49m\n\u001b[32m   1949\u001b[39m \u001b[43m    \u001b[49m\u001b[43msession\u001b[49m\u001b[43m=\u001b[49m\u001b[43msession\u001b[49m\u001b[43m,\u001b[49m\n\u001b[32m   1950\u001b[39m \u001b[43m    \u001b[49m\u001b[43mbulk\u001b[49m\u001b[43m=\u001b[49m\u001b[43mbulk\u001b[49m\u001b[43m,\u001b[49m\n\u001b[32m   1951\u001b[39m \u001b[43m    \u001b[49m\u001b[43moperation\u001b[49m\u001b[43m=\u001b[49m\u001b[43moperation\u001b[49m\u001b[43m,\u001b[49m\n\u001b[32m   1952\u001b[39m \u001b[43m    \u001b[49m\u001b[43mretryable\u001b[49m\u001b[43m=\u001b[49m\u001b[43mretryable\u001b[49m\u001b[43m,\u001b[49m\n\u001b[32m   1953\u001b[39m \u001b[43m    \u001b[49m\u001b[43moperation_id\u001b[49m\u001b[43m=\u001b[49m\u001b[43moperation_id\u001b[49m\u001b[43m,\u001b[49m\n\u001b[32m   1954\u001b[39m \u001b[43m\u001b[49m\u001b[43m)\u001b[49m\n",
      "\u001b[36mFile \u001b[39m\u001b[32m~/Softwares/anaconda3/envs/stock_prediction/lib/python3.11/site-packages/pymongo/_csot.py:119\u001b[39m, in \u001b[36mapply.<locals>.csot_wrapper\u001b[39m\u001b[34m(self, *args, **kwargs)\u001b[39m\n\u001b[32m    117\u001b[39m         \u001b[38;5;28;01mwith\u001b[39;00m _TimeoutContext(timeout):\n\u001b[32m    118\u001b[39m             \u001b[38;5;28;01mreturn\u001b[39;00m func(\u001b[38;5;28mself\u001b[39m, *args, **kwargs)\n\u001b[32m--> \u001b[39m\u001b[32m119\u001b[39m \u001b[38;5;28;01mreturn\u001b[39;00m \u001b[43mfunc\u001b[49m\u001b[43m(\u001b[49m\u001b[38;5;28;43mself\u001b[39;49m\u001b[43m,\u001b[49m\u001b[43m \u001b[49m\u001b[43m*\u001b[49m\u001b[43margs\u001b[49m\u001b[43m,\u001b[49m\u001b[43m \u001b[49m\u001b[43m*\u001b[49m\u001b[43m*\u001b[49m\u001b[43mkwargs\u001b[49m\u001b[43m)\u001b[49m\n",
      "\u001b[36mFile \u001b[39m\u001b[32m~/Softwares/anaconda3/envs/stock_prediction/lib/python3.11/site-packages/pymongo/synchronous/mongo_client.py:1993\u001b[39m, in \u001b[36mMongoClient._retry_internal\u001b[39m\u001b[34m(self, func, session, bulk, operation, is_read, address, read_pref, retryable, operation_id)\u001b[39m\n\u001b[32m   1956\u001b[39m \u001b[38;5;129m@_csot\u001b[39m.apply\n\u001b[32m   1957\u001b[39m \u001b[38;5;28;01mdef\u001b[39;00m\u001b[38;5;250m \u001b[39m\u001b[34m_retry_internal\u001b[39m(\n\u001b[32m   1958\u001b[39m     \u001b[38;5;28mself\u001b[39m,\n\u001b[32m   (...)\u001b[39m\u001b[32m   1967\u001b[39m     operation_id: Optional[\u001b[38;5;28mint\u001b[39m] = \u001b[38;5;28;01mNone\u001b[39;00m,\n\u001b[32m   1968\u001b[39m ) -> T:\n\u001b[32m   1969\u001b[39m \u001b[38;5;250m    \u001b[39m\u001b[33;03m\"\"\"Internal retryable helper for all client transactions.\u001b[39;00m\n\u001b[32m   1970\u001b[39m \n\u001b[32m   1971\u001b[39m \u001b[33;03m    :param func: Callback function we want to retry\u001b[39;00m\n\u001b[32m   (...)\u001b[39m\u001b[32m   1980\u001b[39m \u001b[33;03m    :return: Output of the calling func()\u001b[39;00m\n\u001b[32m   1981\u001b[39m \u001b[33;03m    \"\"\"\u001b[39;00m\n\u001b[32m   1982\u001b[39m     \u001b[38;5;28;01mreturn\u001b[39;00m \u001b[43m_ClientConnectionRetryable\u001b[49m\u001b[43m(\u001b[49m\n\u001b[32m   1983\u001b[39m \u001b[43m        \u001b[49m\u001b[43mmongo_client\u001b[49m\u001b[43m=\u001b[49m\u001b[38;5;28;43mself\u001b[39;49m\u001b[43m,\u001b[49m\n\u001b[32m   1984\u001b[39m \u001b[43m        \u001b[49m\u001b[43mfunc\u001b[49m\u001b[43m=\u001b[49m\u001b[43mfunc\u001b[49m\u001b[43m,\u001b[49m\n\u001b[32m   1985\u001b[39m \u001b[43m        \u001b[49m\u001b[43mbulk\u001b[49m\u001b[43m=\u001b[49m\u001b[43mbulk\u001b[49m\u001b[43m,\u001b[49m\n\u001b[32m   1986\u001b[39m \u001b[43m        \u001b[49m\u001b[43moperation\u001b[49m\u001b[43m=\u001b[49m\u001b[43moperation\u001b[49m\u001b[43m,\u001b[49m\n\u001b[32m   1987\u001b[39m \u001b[43m        \u001b[49m\u001b[43mis_read\u001b[49m\u001b[43m=\u001b[49m\u001b[43mis_read\u001b[49m\u001b[43m,\u001b[49m\n\u001b[32m   1988\u001b[39m \u001b[43m        \u001b[49m\u001b[43msession\u001b[49m\u001b[43m=\u001b[49m\u001b[43msession\u001b[49m\u001b[43m,\u001b[49m\n\u001b[32m   1989\u001b[39m \u001b[43m        \u001b[49m\u001b[43mread_pref\u001b[49m\u001b[43m=\u001b[49m\u001b[43mread_pref\u001b[49m\u001b[43m,\u001b[49m\n\u001b[32m   1990\u001b[39m \u001b[43m        \u001b[49m\u001b[43maddress\u001b[49m\u001b[43m=\u001b[49m\u001b[43maddress\u001b[49m\u001b[43m,\u001b[49m\n\u001b[32m   1991\u001b[39m \u001b[43m        \u001b[49m\u001b[43mretryable\u001b[49m\u001b[43m=\u001b[49m\u001b[43mretryable\u001b[49m\u001b[43m,\u001b[49m\n\u001b[32m   1992\u001b[39m \u001b[43m        \u001b[49m\u001b[43moperation_id\u001b[49m\u001b[43m=\u001b[49m\u001b[43moperation_id\u001b[49m\u001b[43m,\u001b[49m\n\u001b[32m-> \u001b[39m\u001b[32m1993\u001b[39m \u001b[43m    \u001b[49m\u001b[43m)\u001b[49m\u001b[43m.\u001b[49m\u001b[43mrun\u001b[49m\u001b[43m(\u001b[49m\u001b[43m)\u001b[49m\n",
      "\u001b[36mFile \u001b[39m\u001b[32m~/Softwares/anaconda3/envs/stock_prediction/lib/python3.11/site-packages/pymongo/synchronous/mongo_client.py:2730\u001b[39m, in \u001b[36m_ClientConnectionRetryable.run\u001b[39m\u001b[34m(self)\u001b[39m\n\u001b[32m   2728\u001b[39m \u001b[38;5;28mself\u001b[39m._check_last_error(check_csot=\u001b[38;5;28;01mTrue\u001b[39;00m)\n\u001b[32m   2729\u001b[39m \u001b[38;5;28;01mtry\u001b[39;00m:\n\u001b[32m-> \u001b[39m\u001b[32m2730\u001b[39m     \u001b[38;5;28;01mreturn\u001b[39;00m \u001b[38;5;28mself\u001b[39m._read() \u001b[38;5;28;01mif\u001b[39;00m \u001b[38;5;28mself\u001b[39m._is_read \u001b[38;5;28;01melse\u001b[39;00m \u001b[38;5;28;43mself\u001b[39;49m\u001b[43m.\u001b[49m\u001b[43m_write\u001b[49m\u001b[43m(\u001b[49m\u001b[43m)\u001b[49m\n\u001b[32m   2731\u001b[39m \u001b[38;5;28;01mexcept\u001b[39;00m ServerSelectionTimeoutError:\n\u001b[32m   2732\u001b[39m     \u001b[38;5;66;03m# The application may think the write was never attempted\u001b[39;00m\n\u001b[32m   2733\u001b[39m     \u001b[38;5;66;03m# if we raise ServerSelectionTimeoutError on the retry\u001b[39;00m\n\u001b[32m   2734\u001b[39m     \u001b[38;5;66;03m# attempt. Raise the original exception instead.\u001b[39;00m\n\u001b[32m   2735\u001b[39m     \u001b[38;5;28mself\u001b[39m._check_last_error()\n",
      "\u001b[36mFile \u001b[39m\u001b[32m~/Softwares/anaconda3/envs/stock_prediction/lib/python3.11/site-packages/pymongo/synchronous/mongo_client.py:2862\u001b[39m, in \u001b[36m_ClientConnectionRetryable._write\u001b[39m\u001b[34m(self)\u001b[39m\n\u001b[32m   2854\u001b[39m         \u001b[38;5;28;01mif\u001b[39;00m \u001b[38;5;28mself\u001b[39m._retrying:\n\u001b[32m   2855\u001b[39m             _debug_log(\n\u001b[32m   2856\u001b[39m                 _COMMAND_LOGGER,\n\u001b[32m   2857\u001b[39m                 message=\u001b[33mf\u001b[39m\u001b[33m\"\u001b[39m\u001b[33mRetrying write attempt number \u001b[39m\u001b[38;5;132;01m{\u001b[39;00m\u001b[38;5;28mself\u001b[39m._attempt_number\u001b[38;5;132;01m}\u001b[39;00m\u001b[33m\"\u001b[39m,\n\u001b[32m   (...)\u001b[39m\u001b[32m   2860\u001b[39m                 operationId=\u001b[38;5;28mself\u001b[39m._operation_id,\n\u001b[32m   2861\u001b[39m             )\n\u001b[32m-> \u001b[39m\u001b[32m2862\u001b[39m         \u001b[38;5;28;01mreturn\u001b[39;00m \u001b[38;5;28;43mself\u001b[39;49m\u001b[43m.\u001b[49m\u001b[43m_func\u001b[49m\u001b[43m(\u001b[49m\u001b[38;5;28;43mself\u001b[39;49m\u001b[43m.\u001b[49m\u001b[43m_session\u001b[49m\u001b[43m,\u001b[49m\u001b[43m \u001b[49m\u001b[43mconn\u001b[49m\u001b[43m,\u001b[49m\u001b[43m \u001b[49m\u001b[38;5;28;43mself\u001b[39;49m\u001b[43m.\u001b[49m\u001b[43m_retryable\u001b[49m\u001b[43m)\u001b[49m  \u001b[38;5;66;03m# type: ignore\u001b[39;00m\n\u001b[32m   2863\u001b[39m \u001b[38;5;28;01mexcept\u001b[39;00m PyMongoError \u001b[38;5;28;01mas\u001b[39;00m exc:\n\u001b[32m   2864\u001b[39m     \u001b[38;5;28;01mif\u001b[39;00m \u001b[38;5;129;01mnot\u001b[39;00m \u001b[38;5;28mself\u001b[39m._retryable:\n",
      "\u001b[36mFile \u001b[39m\u001b[32m~/Softwares/anaconda3/envs/stock_prediction/lib/python3.11/site-packages/pymongo/synchronous/collection.py:829\u001b[39m, in \u001b[36mCollection._insert_one.<locals>._insert_command\u001b[39m\u001b[34m(session, conn, retryable_write)\u001b[39m\n\u001b[32m    817\u001b[39m     command[\u001b[33m\"\u001b[39m\u001b[33mbypassDocumentValidation\u001b[39m\u001b[33m\"\u001b[39m] = bypass_doc_val\n\u001b[32m    819\u001b[39m result = conn.command(\n\u001b[32m    820\u001b[39m     \u001b[38;5;28mself\u001b[39m._database.name,\n\u001b[32m    821\u001b[39m     command,\n\u001b[32m   (...)\u001b[39m\u001b[32m    826\u001b[39m     retryable_write=retryable_write,\n\u001b[32m    827\u001b[39m )\n\u001b[32m--> \u001b[39m\u001b[32m829\u001b[39m \u001b[43m_check_write_command_response\u001b[49m\u001b[43m(\u001b[49m\u001b[43mresult\u001b[49m\u001b[43m)\u001b[49m\n",
      "\u001b[36mFile \u001b[39m\u001b[32m~/Softwares/anaconda3/envs/stock_prediction/lib/python3.11/site-packages/pymongo/helpers_shared.py:288\u001b[39m, in \u001b[36m_check_write_command_response\u001b[39m\u001b[34m(result)\u001b[39m\n\u001b[32m    286\u001b[39m write_errors = result.get(\u001b[33m\"\u001b[39m\u001b[33mwriteErrors\u001b[39m\u001b[33m\"\u001b[39m)\n\u001b[32m    287\u001b[39m \u001b[38;5;28;01mif\u001b[39;00m write_errors:\n\u001b[32m--> \u001b[39m\u001b[32m288\u001b[39m     \u001b[43m_raise_last_write_error\u001b[49m\u001b[43m(\u001b[49m\u001b[43mwrite_errors\u001b[49m\u001b[43m)\u001b[49m\n\u001b[32m    290\u001b[39m wce = _get_wce_doc(result)\n\u001b[32m    291\u001b[39m \u001b[38;5;28;01mif\u001b[39;00m wce:\n",
      "\u001b[36mFile \u001b[39m\u001b[32m~/Softwares/anaconda3/envs/stock_prediction/lib/python3.11/site-packages/pymongo/helpers_shared.py:258\u001b[39m, in \u001b[36m_raise_last_write_error\u001b[39m\u001b[34m(write_errors)\u001b[39m\n\u001b[32m    256\u001b[39m error = write_errors[-\u001b[32m1\u001b[39m]\n\u001b[32m    257\u001b[39m \u001b[38;5;28;01mif\u001b[39;00m error.get(\u001b[33m\"\u001b[39m\u001b[33mcode\u001b[39m\u001b[33m\"\u001b[39m) == \u001b[32m11000\u001b[39m:\n\u001b[32m--> \u001b[39m\u001b[32m258\u001b[39m     \u001b[38;5;28;01mraise\u001b[39;00m DuplicateKeyError(error.get(\u001b[33m\"\u001b[39m\u001b[33merrmsg\u001b[39m\u001b[33m\"\u001b[39m), \u001b[32m11000\u001b[39m, error)\n\u001b[32m    259\u001b[39m \u001b[38;5;28;01mraise\u001b[39;00m WriteError(error.get(\u001b[33m\"\u001b[39m\u001b[33merrmsg\u001b[39m\u001b[33m\"\u001b[39m), error.get(\u001b[33m\"\u001b[39m\u001b[33mcode\u001b[39m\u001b[33m\"\u001b[39m), error)\n",
      "\u001b[31mDuplicateKeyError\u001b[39m: E11000 duplicate key error collection: stock_tweets.concatenated_data index: _id_ dup key: { _id: ObjectId('68258bedb91dc6e14c228e97') }, full error: {'index': 0, 'code': 11000, 'errmsg': \"E11000 duplicate key error collection: stock_tweets.concatenated_data index: _id_ dup key: { _id: ObjectId('68258bedb91dc6e14c228e97') }\", 'keyPattern': {'_id': 1}, 'keyValue': {'_id': ObjectId('68258bedb91dc6e14c228e97')}}"
     ]
    }
   ],
   "source": [
    "company_ticker_mapping = {\n",
    "    \"apple\": \"AAPL\",\n",
    "    \"google\": \"GOOGL\",\n",
    "    \"amazon\": \"AMZN\"\n",
    "}\n",
    "\n",
    "# Concatenate the two tables on the date and ticker after converting the company name to ticker\n",
    "def get_ticker(company):\n",
    "    return company_ticker_mapping.get(company.lower(), None)\n",
    "\n",
    "# Create a new collection for the concatenated data\n",
    "concatenated_collection = db['concatenated_data']\n",
    "concatenated_collection.drop()\n",
    "# Insert concatenated data into the new collection\n",
    "for tweet in tweets.find():\n",
    "    date = tweet['date']\n",
    "    company = tweet['company']\n",
    "    ticker = get_ticker(company)\n",
    "    \n",
    "    if ticker:\n",
    "        stock_data = stock_prices.find_one({\"date\": date, \"ticker\": ticker})\n",
    "        if stock_data:\n",
    "            concatenated_collection.insert_one({\n",
    "                \"date\": date,\n",
    "                \"company\": company,\n",
    "                \"tweet\": tweet['tweet'],\n",
    "                \"sentiment\": tweet['sentiment'],\n",
    "                \"sentiment_score\": tweet['sentiment_score'],\n",
    "                \"ticker\": ticker,\n",
    "                **stock_data\n",
    "            })\n",
    "\n",
    "# Print the concatenated data\n",
    "for data in concatenated_collection.find():\n",
    "    print(data)"
   ]
  },
  {
   "cell_type": "code",
   "execution_count": null,
   "metadata": {},
   "outputs": [],
   "source": []
  }
 ],
 "metadata": {
  "kernelspec": {
   "display_name": "stock_prediction",
   "language": "python",
   "name": "python3"
  },
  "language_info": {
   "codemirror_mode": {
    "name": "ipython",
    "version": 3
   },
   "file_extension": ".py",
   "mimetype": "text/x-python",
   "name": "python",
   "nbconvert_exporter": "python",
   "pygments_lexer": "ipython3",
   "version": "3.11.11"
  }
 },
 "nbformat": 4,
 "nbformat_minor": 2
}
